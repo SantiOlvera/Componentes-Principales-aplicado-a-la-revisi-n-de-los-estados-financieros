{
 "cells": [
  {
   "cell_type": "code",
   "execution_count": 27,
   "metadata": {},
   "outputs": [],
   "source": [
    "import pandas as pd\n",
    "from bs4 import BeautifulSoup\n",
    "from urllib.request import Request, urlopen\n",
    "import time"
   ]
  },
  {
   "cell_type": "code",
   "execution_count": 46,
   "metadata": {},
   "outputs": [
    {
     "name": "stdout",
     "output_type": "stream",
     "text": [
      "Ingresos totaleshola\n",
      "371,622,000hi\n",
      "Costo de gananciashola\n",
      "280,664,000hi\n",
      "Ganancia brutahola\n",
      "90,958,000hi\n",
      "Gastos operativosholaa\n",
      "0hi\n",
      "Gastos operativos totaleshola\n",
      "58,600,000hi\n",
      "Ingresos o pérdidas operativoshola\n",
      "32,358,000hi\n",
      "Gastos de interéshola\n",
      "3,246,000hi\n",
      "Valor neto total de otros gastos/ingresoshola\n",
      "-hi\n",
      "Ingreso antes de impuestoshola\n",
      "29,112,000hi\n",
      "Impuesto a las gananciashola\n",
      "5,968,000hi\n",
      "Ingreso de operaciones continuashola\n",
      "23,144,000hi\n"
     ]
    },
    {
     "ename": "AttributeError",
     "evalue": "'NoneType' object has no attribute 'text'",
     "output_type": "error",
     "traceback": [
      "\u001b[0;31m---------------------------------------------------------------------------\u001b[0m",
      "\u001b[0;31mAttributeError\u001b[0m                            Traceback (most recent call last)",
      "Cell \u001b[0;32mIn[46], line 34\u001b[0m\n\u001b[1;32m     32\u001b[0m value\u001b[39m=\u001b[39ms\u001b[39m.\u001b[39mfind(\u001b[39m'\u001b[39m\u001b[39mdiv\u001b[39m\u001b[39m'\u001b[39m,class_\u001b[39m=\u001b[39m\u001b[39m'\u001b[39m\u001b[39mTa(c) Py(6px) Bxz(bb) BdB Bdc($seperatorColor) Miw(120px) Miw(100px)--pnclg D(tbc)\u001b[39m\u001b[39m'\u001b[39m)\n\u001b[1;32m     33\u001b[0m label\u001b[39m=\u001b[39ms\u001b[39m.\u001b[39mfind(\u001b[39m'\u001b[39m\u001b[39mdiv\u001b[39m\u001b[39m'\u001b[39m,class_\u001b[39m=\u001b[39m\u001b[39m'\u001b[39m\u001b[39mD(ib) Va(m) Ell Mt(-3px) W(215px)--mv2 W(200px) undefined\u001b[39m\u001b[39m'\u001b[39m)\n\u001b[0;32m---> 34\u001b[0m \u001b[39mif\u001b[39;00m label\u001b[39m.\u001b[39mtext \u001b[39m==\u001b[39m\u001b[39m\"\u001b[39m\u001b[39mGastos operativos\u001b[39m\u001b[39m\"\u001b[39m:\n\u001b[1;32m     35\u001b[0m     value\u001b[39m=\u001b[39m\u001b[39m0\u001b[39m\n\u001b[1;32m     36\u001b[0m     \u001b[39mprint\u001b[39m(label\u001b[39m.\u001b[39mtext\u001b[39m+\u001b[39m\u001b[39m\"\u001b[39m\u001b[39mholaa\u001b[39m\u001b[39m\"\u001b[39m)\n",
      "\u001b[0;31mAttributeError\u001b[0m: 'NoneType' object has no attribute 'text'"
     ]
    }
   ],
   "source": [
    "url=['UNH','JNJ','LLY','ABBV','PFE','MRK','TMO','ABT','DHR','BMY']\n",
    "tipo_estado=['financials','balance-sheet','cash-flow']\n",
    "base='https://es-us.finanzas.yahoo.com/quote/'\n",
    "\n",
    "for i in url:\n",
    "    for j in tipo_estado:\n",
    "        # URL open\n",
    "        flag=False\n",
    "        flag2=False\n",
    "        url=base+i+'/'+j\n",
    "        req=Request(url, headers={'User-Agent': 'Mozilla/5.0'})\n",
    "        webpage = urlopen(req).read()\n",
    "        bs = BeautifulSoup(webpage, 'html.parser')\n",
    "        soup=bs.find_all('div',class_='rw-expnded')\n",
    "        soup=soup[0:len(soup)-1]\n",
    "        for s in soup:\n",
    "            if flag:\n",
    "                label=s.find('div',class_='D(ib) Va(m) Ell Mt(-3px) W(200px)--mv2 W(185px) Fw(b)')\n",
    "                value=s.find('div',class_='Ta(c) Py(6px) Bxz(bb) BdB Bdc($seperatorColor) Miw(120px) Miw(100px)--pnclg D(tbc)')\n",
    "                print(label.text+\"hola\")\n",
    "                print(value.text+\"hi\")\n",
    "                flag=False\n",
    "                flag2=True\n",
    "            else:\n",
    "                if flag2:\n",
    "                    label=s.find('div',class_='D(ib) Va(m) Ell Mt(-3px) W(215px)--mv2 W(200px) Fw(b)')\n",
    "                    value=s.find('div',class_='Ta(c) Py(6px) Bxz(bb) BdB Bdc($seperatorColor) Miw(120px) Miw(100px)--pnclg D(tbc)')\n",
    "                    print(label.text+\"hola\")\n",
    "                    print(value.text+\"hi\")\n",
    "                    flag2=False\n",
    "                else:\n",
    "                    value=s.find('div',class_='Ta(c) Py(6px) Bxz(bb) BdB Bdc($seperatorColor) Miw(120px) Miw(100px)--pnclg D(tbc)')\n",
    "                    label=s.find('div',class_='D(ib) Va(m) Ell Mt(-3px) W(215px)--mv2 W(200px) undefined')\n",
    "                    if label.text ==\"Gastos operativos\":\n",
    "                        value=0\n",
    "                        print(label.text+\"holaa\")\n",
    "                        print(str(value)+\"hi\")\n",
    "                        flag=True\n",
    "                    else:\n",
    "                        value=s.find('div',class_='Ta(c) Py(6px) Bxz(bb) BdB Bdc($seperatorColor) Miw(120px) Miw(100px)--pnclg D(tbc)') \n",
    "                        print(label.text+\"hola\")\n",
    "                        print(value.text+\"hi\")  \n",
    "                    time.sleep(1)\n",
    "        break\n",
    "    break\n",
    "\n",
    "\n"
   ]
  },
  {
   "cell_type": "code",
   "execution_count": null,
   "metadata": {},
   "outputs": [],
   "source": [
    "<div class=\"rw-expnded\" data-test=\"fin-row\"><div class=\"D(tbr) fi-row Bgc($hoverBgColor):h\"><div class=\"D(tbc) Ta(start) Pend(15px)--mv2 Pend(10px) Bxz(bb) Py(8px) Bdends(s) Bdbs(s) Bdstarts(s) Bdstartw(1px) Bdbw(1px) Bdendw(1px) Bdc($seperatorColor) Pos(st) Start(0) Bgc($lv2BgColor) fi-row:h_Bgc($hoverBgColor) Pstart(15px)--mv2 Pstart(10px)\"><div class=\"D(ib) Va(m) Ell Mt(-3px) W(215px)--mv2 W(200px) undefined\" title=\"Gastos operativos\"><button aria-label=\"Gastos operativos\" class=\"P(0) M(0) Va(m) Bd(0) Fz(s) Mend(2px) tgglBtn\"><svg class=\"H(16px) Fill($primaryColor) Stk($primaryColor) tgglBtn:h_Fill($linkColor) tgglBtn:h_Stk($linkColor) Cur(p)\" width=\"16\" height=\"16\" viewBox=\"0 0 48 48\" data-icon=\"caret-down\" style=\"stroke-width: 0px; vertical-align: bottom;\"><path d=\"M24.21 33.173l12.727-12.728c.78-.78.78-2.048 0-2.828-.78-.78-2.047-.78-2.828 0l-9.9 9.9-9.9-9.9c-.78-.78-2.047-.78-2.827 0-.78.78-.78 2.047 0 2.828L24.21 33.173z\"></path></svg></button><span class=\"Va(m)\">Gastos operativos</span></div><div class=\"W(3px) Pos(a) Start(100%) T(0) H(100%) Bg($pfColumnFakeShadowGradient) Pe(n) Pend(5px)\"></div></div><div class=\"Ta(c) Py(6px) Bxz(bb) BdB Bdc($seperatorColor) Miw(120px) Miw(100px)--pnclg Bgc($lv1BgColor) fi-row:h_Bgc($hoverBgColor) D(tbc)\" data-test=\"fin-col\"></div><div class=\"Ta(c) Py(6px) Bxz(bb) BdB Bdc($seperatorColor) Miw(120px) Miw(100px)--pnclg D(tbc)\" data-test=\"fin-col\"></div><div class=\"Ta(c) Py(6px) Bxz(bb) BdB Bdc($seperatorColor) Miw(120px) Miw(100px)--pnclg Bgc($lv1BgColor) fi-row:h_Bgc($hoverBgColor) D(tbc)\" data-test=\"fin-col\"></div><div class=\"Ta(c) Py(6px) Bxz(bb) BdB Bdc($seperatorColor) Miw(120px) Miw(100px)--pnclg D(tbc)\" data-test=\"fin-col\"></div><div class=\"Ta(c) Py(6px) Bxz(bb) BdB Bdc($seperatorColor) Miw(120px) Miw(100px)--pnclg Bgc($lv1BgColor) fi-row:h_Bgc($hoverBgColor) D(tbc)\" data-test=\"fin-col\"></div></div><div><div class=\"rw-expnded\" data-test=\"fin-row\"><div class=\"D(tbr) fi-row Bgc($hoverBgColor):h\"><div class=\"D(tbc) Ta(start) Pend(15px)--mv2 Pend(10px) Bxz(bb) Py(8px) Bdends(s) Bdbs(s) Bdstarts(s) Bdstartw(1px) Bdbw(1px) Bdendw(1px) Bdc($seperatorColor) Pos(st) Start(0) Bgc($lv2BgColor) fi-row:h_Bgc($hoverBgColor) Pstart(30px)--mv2 Pstart(25px)\"><div class=\"D(ib) Va(m) Ell Mt(-3px) W(200px)--mv2 W(185px) Fw(b)\" title=\"Gastos operativos totales\"><span class=\"Va(m)\">Gastos operativos totales</span></div><div class=\"W(3px) Pos(a) Start(100%) T(0) H(100%) Bg($pfColumnFakeShadowGradient) Pe(n) Pend(5px)\"></div></div><div class=\"Ta(c) Py(6px) Bxz(bb) BdB Bdc($seperatorColor) Miw(120px) Miw(100px)--pnclg Bgc($lv1BgColor) fi-row:h_Bgc($hoverBgColor) D(tbc)\" data-test=\"fin-col\"><span>58,600,000</span></div><div class=\"Ta(c) Py(6px) Bxz(bb) BdB Bdc($seperatorColor) Miw(120px) Miw(100px)--pnclg D(tbc)\" data-test=\"fin-col\"><span>58,600,000</span></div><div class=\"Ta(c) Py(6px) Bxz(bb) BdB Bdc($seperatorColor) Miw(120px) Miw(100px)--pnclg Bgc($lv1BgColor) fi-row:h_Bgc($hoverBgColor) D(tbc)\" data-test=\"fin-col\"><span>51,182,000</span></div><div class=\"Ta(c) Py(6px) Bxz(bb) BdB Bdc($seperatorColor) Miw(120px) Miw(100px)--pnclg D(tbc)\" data-test=\"fin-col\"><span>45,682,000</span></div><div class=\"Ta(c) Py(6px) Bxz(bb) BdB Bdc($seperatorColor) Miw(120px) Miw(100px)--pnclg Bgc($lv1BgColor) fi-row:h_Bgc($hoverBgColor) D(tbc)\" data-test=\"fin-col\"><span>44,595,000</span></div></div><div></div></div></div></div>"
   ]
  },
  {
   "cell_type": "code",
   "execution_count": 39,
   "metadata": {},
   "outputs": [
    {
     "name": "stdout",
     "output_type": "stream",
     "text": [
      "<div class=\"rw-expnded\" data-test=\"fin-row\"><div class=\"D(tbr) fi-row Bgc($hoverBgColor):h\"><div class=\"D(tbc) Ta(start) Pend(15px)--mv2 Pend(10px) Bxz(bb) Py(8px) Bdends(s) Bdbs(s) Bdstarts(s) Bdstartw(1px) Bdbw(1px) Bdendw(1px) Bdc($seperatorColor) Pos(st) Start(0) Bgc($lv2BgColor) fi-row:h_Bgc($hoverBgColor) Pstart(15px)--mv2 Pstart(10px)\"><div class=\"D(ib) Va(m) Ell Mt(-3px) W(215px)--mv2 W(200px) undefined\" title=\"Gastos operativos\"><button aria-label=\"Gastos operativos\" class=\"P(0) M(0) Va(m) Bd(0) Fz(s) Mend(2px) tgglBtn\"><svg class=\"H(16px) Fill($primaryColor) Stk($primaryColor) tgglBtn:h_Fill($linkColor) tgglBtn:h_Stk($linkColor) Cur(p)\" data-icon=\"caret-down\" height=\"16\" style=\"stroke-width:0;vertical-align:bottom\" viewbox=\"0 0 48 48\" width=\"16\"><path d=\"M24.21 33.173l12.727-12.728c.78-.78.78-2.048 0-2.828-.78-.78-2.047-.78-2.828 0l-9.9 9.9-9.9-9.9c-.78-.78-2.047-.78-2.827 0-.78.78-.78 2.047 0 2.828L24.21 33.173z\"></path></svg></button><span class=\"Va(m)\">Gastos operativos</span></div><div class=\"W(3px) Pos(a) Start(100%) T(0) H(100%) Bg($pfColumnFakeShadowGradient) Pe(n) Pend(5px)\"></div></div><div class=\"Ta(c) Py(6px) Bxz(bb) BdB Bdc($seperatorColor) Miw(120px) Miw(100px)--pnclg Bgc($lv1BgColor) fi-row:h_Bgc($hoverBgColor) D(tbc)\" data-test=\"fin-col\"></div><div class=\"Ta(c) Py(6px) Bxz(bb) BdB Bdc($seperatorColor) Miw(120px) Miw(100px)--pnclg D(tbc)\" data-test=\"fin-col\"></div><div class=\"Ta(c) Py(6px) Bxz(bb) BdB Bdc($seperatorColor) Miw(120px) Miw(100px)--pnclg Bgc($lv1BgColor) fi-row:h_Bgc($hoverBgColor) D(tbc)\" data-test=\"fin-col\"></div><div class=\"Ta(c) Py(6px) Bxz(bb) BdB Bdc($seperatorColor) Miw(120px) Miw(100px)--pnclg D(tbc)\" data-test=\"fin-col\"></div><div class=\"Ta(c) Py(6px) Bxz(bb) BdB Bdc($seperatorColor) Miw(120px) Miw(100px)--pnclg Bgc($lv1BgColor) fi-row:h_Bgc($hoverBgColor) D(tbc)\" data-test=\"fin-col\"></div></div><div><div class=\"rw-expnded\" data-test=\"fin-row\"><div class=\"D(tbr) fi-row Bgc($hoverBgColor):h\"><div class=\"D(tbc) Ta(start) Pend(15px)--mv2 Pend(10px) Bxz(bb) Py(8px) Bdends(s) Bdbs(s) Bdstarts(s) Bdstartw(1px) Bdbw(1px) Bdendw(1px) Bdc($seperatorColor) Pos(st) Start(0) Bgc($lv2BgColor) fi-row:h_Bgc($hoverBgColor) Pstart(30px)--mv2 Pstart(25px)\"><div class=\"D(ib) Va(m) Ell Mt(-3px) W(200px)--mv2 W(185px) Fw(b)\" title=\"Gastos operativos totales\"><span class=\"Va(m)\">Gastos operativos totales</span></div><div class=\"W(3px) Pos(a) Start(100%) T(0) H(100%) Bg($pfColumnFakeShadowGradient) Pe(n) Pend(5px)\"></div></div><div class=\"Ta(c) Py(6px) Bxz(bb) BdB Bdc($seperatorColor) Miw(120px) Miw(100px)--pnclg Bgc($lv1BgColor) fi-row:h_Bgc($hoverBgColor) D(tbc)\" data-test=\"fin-col\"><span>58,600,000</span></div><div class=\"Ta(c) Py(6px) Bxz(bb) BdB Bdc($seperatorColor) Miw(120px) Miw(100px)--pnclg D(tbc)\" data-test=\"fin-col\"><span>58,600,000</span></div><div class=\"Ta(c) Py(6px) Bxz(bb) BdB Bdc($seperatorColor) Miw(120px) Miw(100px)--pnclg Bgc($lv1BgColor) fi-row:h_Bgc($hoverBgColor) D(tbc)\" data-test=\"fin-col\"><span>51,182,000</span></div><div class=\"Ta(c) Py(6px) Bxz(bb) BdB Bdc($seperatorColor) Miw(120px) Miw(100px)--pnclg D(tbc)\" data-test=\"fin-col\"><span>45,682,000</span></div><div class=\"Ta(c) Py(6px) Bxz(bb) BdB Bdc($seperatorColor) Miw(120px) Miw(100px)--pnclg Bgc($lv1BgColor) fi-row:h_Bgc($hoverBgColor) D(tbc)\" data-test=\"fin-col\"><span>44,595,000</span></div></div><div></div></div></div></div>\n"
     ]
    }
   ],
   "source": [
    "print(soup[3])"
   ]
  },
  {
   "cell_type": "code",
   "execution_count": null,
   "metadata": {},
   "outputs": [],
   "source": []
  }
 ],
 "metadata": {
  "kernelspec": {
   "display_name": "base",
   "language": "python",
   "name": "python3"
  },
  "language_info": {
   "codemirror_mode": {
    "name": "ipython",
    "version": 3
   },
   "file_extension": ".py",
   "mimetype": "text/x-python",
   "name": "python",
   "nbconvert_exporter": "python",
   "pygments_lexer": "ipython3",
   "version": "3.11.5"
  },
  "orig_nbformat": 4
 },
 "nbformat": 4,
 "nbformat_minor": 2
}
